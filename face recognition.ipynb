{
 "cells": [
  {
   "cell_type": "code",
   "execution_count": 35,
   "metadata": {},
   "outputs": [],
   "source": [
    "import face_recognition\n",
    "import numpy as np\n",
    "import cv2"
   ]
  },
  {
   "cell_type": "code",
   "execution_count": 37,
   "metadata": {},
   "outputs": [],
   "source": [
    "video_capture=cv2.VideoCapture(0)"
   ]
  },
  {
   "cell_type": "code",
   "execution_count": 42,
   "metadata": {},
   "outputs": [],
   "source": [
    "duterte_image=face_recognition.load_image_file(\"./known_image/Duterte.jpg\")\n",
    "leni_image=face_recognition.load_image_file(\"./known_image/leni.jpg\")\n",
    "obama_image=face_recognition.load_image_file(\"./known_image/obama.jpg\")\n",
    "unknown_image=face_recognition.load_image_file(\"./unknown_image/idk.jpeg\")"
   ]
  },
  {
   "cell_type": "code",
   "execution_count": 43,
   "metadata": {},
   "outputs": [],
   "source": [
    "duterte_face_encoding=face_recognition.face_encodings(duterte_image)[0]\n",
    "leni_face_encoding=face_recognition.face_encodings(leni_image)[0]\n",
    "obama_face_encoding=face_recognition.face_encodings(obama_image)[0]\n",
    "unknown_face_encoding=face_recognition.face_encodings(unknown_image)[0]\n"
   ]
  },
  {
   "cell_type": "code",
   "execution_count": 44,
   "metadata": {},
   "outputs": [],
   "source": [
    "known_faces =[duterte_face_encoding, \n",
    "              leni_face_encoding ,\n",
    "              obama_face_encoding]"
   ]
  },
  {
   "cell_type": "code",
   "execution_count": 45,
   "metadata": {},
   "outputs": [],
   "source": [
    "results= face_recognition.compare_faces(known_faces, unknown_face_encoding)"
   ]
  },
  {
   "cell_type": "code",
   "execution_count": 46,
   "metadata": {},
   "outputs": [
    {
     "name": "stdout",
     "output_type": "stream",
     "text": [
      "duterte? False\n",
      "leni? True\n",
      "obama? False\n"
     ]
    }
   ],
   "source": [
    "print(\"duterte? {}\".format(results[0]))\n",
    "print(\"leni? {}\".format(results[1]))\n",
    "print(\"obama? {}\".format(results[2]))\n"
   ]
  },
  {
   "cell_type": "code",
   "execution_count": 41,
   "metadata": {},
   "outputs": [],
   "source": [
    "video_capture.release()"
   ]
  },
  {
   "cell_type": "code",
   "execution_count": null,
   "metadata": {},
   "outputs": [],
   "source": []
  }
 ],
 "metadata": {
  "kernelspec": {
   "display_name": "Python 3",
   "language": "python",
   "name": "python3"
  },
  "language_info": {
   "codemirror_mode": {
    "name": "ipython",
    "version": 3
   },
   "file_extension": ".py",
   "mimetype": "text/x-python",
   "name": "python",
   "nbconvert_exporter": "python",
   "pygments_lexer": "ipython3",
   "version": "3.9.6"
  }
 },
 "nbformat": 4,
 "nbformat_minor": 4
}
